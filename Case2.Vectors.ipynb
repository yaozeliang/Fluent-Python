{
 "cells": [
  {
   "cell_type": "markdown",
   "metadata": {},
   "source": [
    "## Emulating numeric types"
   ]
  },
  {
   "cell_type": "markdown",
   "metadata": {},
   "source": [
    "### A simple 2D vector class"
   ]
  },
  {
   "cell_type": "code",
   "execution_count": 3,
   "metadata": {
    "scrolled": true
   },
   "outputs": [],
   "source": [
    "class Vector:\n",
    "    def __init__(self, x=0, y=0):\n",
    "        self.x = x\n",
    "        self.y = y\n",
    "        \n",
    "    def __repr__(self):\n",
    "        return 'Vector(%r, %r)' % (self.x, self.y)\n",
    "    \n",
    "    def __abs__(self):\n",
    "        return hypot(self.x, self.y)\n",
    "    \n",
    "    def __bool__(self):\n",
    "        return bool(abs(self))\n",
    "    \n",
    "    def __add__(self, other):\n",
    "        x = self.x + other.x\n",
    "        y = self.y + other.y\n",
    "        return Vector(x, y)\n",
    "    \n",
    "    def __mul__(self, scalar):\n",
    "        return Vector(self.x * scalar, self.y * scalar)\n",
    "    "
   ]
  },
  {
   "cell_type": "markdown",
   "metadata": {},
   "source": [
    "The __repr__ special method is called by the repr built-in to get string representation\n",
    "of the object for inspection. If we did not implement __repr__, vector instances would\n",
    "be shown in the console like <Vector object at 0x10e100070>.\n",
    "The interactive console and debugger call repr on the results of the expressions evaluated,\n",
    "as does the '%r' place holder in classic formatting with % operator, and the !r\n",
    "conversion field in the new Format String Syntax used in the str.format method5."
   ]
  },
  {
   "cell_type": "markdown",
   "metadata": {},
   "source": [
    "```\n",
    "\"Harold's a clever {0!s}\"        # Calls str() on the argument first\n",
    "\"Bring out the holy {name!r}\"    # Calls repr() on the argument first\n",
    "\n",
    "```"
   ]
  },
  {
   "cell_type": "markdown",
   "metadata": {},
   "source": [
    "Contrast __repr__ with with __str__, which is called by the str() constructor and\n",
    "implicitly used by the print function. __str__ should return a string suitable for display\n",
    "to end-users.\n",
    "If you only implement one of these special methods, choose __repr__, because when\n",
    "no custom __str__ is available, Python will call __repr__ as a fallback."
   ]
  },
  {
   "cell_type": "markdown",
   "metadata": {},
   "source": [
    "Special method names (operators excluded).\n",
    "\n",
    "- string/bytes representation: ``` __repr__, __str__, __format__, __bytes__```\n",
    "- conversion to number:```__abs__, __bool__, __complex__, __int__, __float__, __hash__, __index__```\n",
    "- emulating collections:``` __len__, __getitem__, __setitem__, __delitem__, __contains__```\n",
    "- iteration:```__iter__, __reversed__, __next__```\n",
    "- instance creation and destruction:```__new__, __init__, __del__```\n",
    "- attribute management:```__getattr__, __getattribute__, __setattr__, __delattr__, __dir__```\n",
    "- attribute descriptors:```__get__, __set__, __delete__```\n",
    "- class services:```__prepare__, __instancecheck__, __subclasscheck__```"
   ]
  }
 ],
 "metadata": {
  "kernelspec": {
   "display_name": "Python 3",
   "language": "python",
   "name": "python3"
  },
  "language_info": {
   "codemirror_mode": {
    "name": "ipython",
    "version": 3
   },
   "file_extension": ".py",
   "mimetype": "text/x-python",
   "name": "python",
   "nbconvert_exporter": "python",
   "pygments_lexer": "ipython3",
   "version": "3.7.3"
  }
 },
 "nbformat": 4,
 "nbformat_minor": 2
}
