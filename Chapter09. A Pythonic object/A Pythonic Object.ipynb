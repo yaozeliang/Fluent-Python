{
 "cells": [
  {
   "cell_type": "markdown",
   "metadata": {},
   "source": [
    "## Object representations"
   ]
  },
  {
   "cell_type": "markdown",
   "metadata": {},
   "source": [
    "Every object-oriented language has at least one standard way of getting a string representation\n",
    "from any object. Python has two:\n",
    ">repr()\n",
    "Return a string representing the object as the developer wants to see it.\n",
    "\n",
    ">str()\n",
    "Return a string representing the object as the user wants to see it."
   ]
  },
  {
   "cell_type": "markdown",
   "metadata": {},
   "source": [
    "## classmethod versus staticmethod"
   ]
  },
  {
   "cell_type": "code",
   "execution_count": 10,
   "metadata": {},
   "outputs": [],
   "source": [
    "class Demo:\n",
    "    @classmethod\n",
    "    def klassmeth(*args):\n",
    "        return args           # klassmeth just returns all positional arguments.\n",
    "    @staticmethod\n",
    "    def statmeth(*args):\n",
    "        return args           # statmeth does the same.\n",
    "    "
   ]
  },
  {
   "cell_type": "code",
   "execution_count": 13,
   "metadata": {},
   "outputs": [
    {
     "data": {
      "text/plain": [
       "((__main__.Demo,), (__main__.Demo, 'spam'), (__main__.Demo, 'spam', 'test'))"
      ]
     },
     "execution_count": 13,
     "metadata": {},
     "output_type": "execute_result"
    }
   ],
   "source": [
    "# No matter how you invoke it, Demo.klassmeth receives the Demo class as the first argument.\n",
    "Demo.klassmeth(),Demo.klassmeth('spam'),Demo.klassmeth('spam','test')"
   ]
  },
  {
   "cell_type": "code",
   "execution_count": 15,
   "metadata": {},
   "outputs": [
    {
     "data": {
      "text/plain": [
       "((), ('spam',), ('spam', 'test'))"
      ]
     },
     "execution_count": 15,
     "metadata": {},
     "output_type": "execute_result"
    }
   ],
   "source": [
    "# Demo.statmeth behaves just like a plain old function.\n",
    "Demo.statmeth(),Demo.statmeth('spam'),Demo.statmeth('spam','test')"
   ]
  },
  {
   "cell_type": "code",
   "execution_count": null,
   "metadata": {},
   "outputs": [],
   "source": []
  },
  {
   "cell_type": "code",
   "execution_count": 40,
   "metadata": {},
   "outputs": [],
   "source": [
    "class Vector2d:\n",
    "    typecode = 'd'\n",
    "    def __init__(self, x, y):\n",
    "        self.x = float(x)\n",
    "        self.y = float(y)\n",
    "    def __iter__(self):\n",
    "        return (i for i in (self.x, self.y))\n",
    "    \n",
    "    \n",
    "    \"\"\"__repr__ builds a string by interpolating the components with {!r} to get their repr; because Vector2d is iterable, *self feeds the x and y components to\n",
    "format.\"\"\"\n",
    "    def __repr__(self):\n",
    "        class_name = type(self).__name__\n",
    "        return '{}({!r}, {!r})'.format(class_name, *self)\n",
    "    \n",
    "    \n",
    "    # From an iterable Vector2d it’s easy to build a tuple for display as an ordered pair.\n",
    "    def __str__(self):\n",
    "        return str(tuple(self))"
   ]
  },
  {
   "cell_type": "markdown",
   "metadata": {},
   "source": [
    "## Formatted displays"
   ]
  },
  {
   "cell_type": "raw",
   "metadata": {},
   "source": [
    "The format() built-in function and the str.format() method delegate the actual formatting\n",
    "to each type by calling their .__format__(format_spec) method. The for\n",
    "mat_spec is a formatting specifier, which is either:\n",
    "\n",
    "• The second argument in format(my_obj, format_spec), or\n",
    "• whatever appears after the colon in a replacement field delimited with {} inside a format string used with str.format()."
   ]
  },
  {
   "cell_type": "code",
   "execution_count": 31,
   "metadata": {},
   "outputs": [
    {
     "data": {
      "text/plain": [
       "0.4115226337448559"
      ]
     },
     "execution_count": 31,
     "metadata": {},
     "output_type": "execute_result"
    }
   ],
   "source": [
    "brl = 1/2.43 # BRL to USD currency conversion rate\n",
    "brl"
   ]
  },
  {
   "cell_type": "code",
   "execution_count": 38,
   "metadata": {},
   "outputs": [
    {
     "data": {
      "text/plain": [
       "'0.4115'"
      ]
     },
     "execution_count": 38,
     "metadata": {},
     "output_type": "execute_result"
    }
   ],
   "source": [
    "# Formatting specifier is '0.4f'.\n",
    "format(brl, '0.4f')"
   ]
  },
  {
   "cell_type": "code",
   "execution_count": 39,
   "metadata": {
    "scrolled": true
   },
   "outputs": [
    {
     "data": {
      "text/plain": [
       "'1 BRL = 0.41 USD'"
      ]
     },
     "execution_count": 39,
     "metadata": {},
     "output_type": "execute_result"
    }
   ],
   "source": [
    "\"\"\"Formatting specifier is '0.2f'. The 'rate' substring in the replacement field is\n",
    "called the field name. It抯 unrelated to the formatting specifier, but determines\n",
    "which argument of .format() goes into that replacement field.\"\"\"\n",
    "\n",
    " \n",
    "'1 BRL = {exchange:0.2f} USD'.format(exchange=brl)"
   ]
  },
  {
   "cell_type": "markdown",
   "metadata": {},
   "source": [
    "## Saving space with the __slots__ class attribute"
   ]
  },
  {
   "cell_type": "code",
   "execution_count": 41,
   "metadata": {},
   "outputs": [],
   "source": [
    "class Vector2d:\n",
    "    __slots__ = ('__x', '__y')"
   ]
  }
 ],
 "metadata": {
  "kernelspec": {
   "display_name": "Python 3",
   "language": "python",
   "name": "python3"
  },
  "language_info": {
   "codemirror_mode": {
    "name": "ipython",
    "version": 3
   },
   "file_extension": ".py",
   "mimetype": "text/x-python",
   "name": "python",
   "nbconvert_exporter": "python",
   "pygments_lexer": "ipython3",
   "version": "3.7.3"
  }
 },
 "nbformat": 4,
 "nbformat_minor": 2
}
