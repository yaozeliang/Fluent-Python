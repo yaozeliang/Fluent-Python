{
 "cells": [
  {
   "cell_type": "markdown",
   "metadata": {},
   "source": [
    "## Variables are not boxes"
   ]
  },
  {
   "cell_type": "markdown",
   "metadata": {},
   "source": [
    "##### Example 8-1. Variables a and b hold references to the same list, not copies of the list."
   ]
  },
  {
   "cell_type": "code",
   "execution_count": 1,
   "metadata": {},
   "outputs": [
    {
     "data": {
      "text/plain": [
       "[1, 2, 3, 4]"
      ]
     },
     "execution_count": 1,
     "metadata": {},
     "output_type": "execute_result"
    }
   ],
   "source": [
    "a = [1, 2, 3]\n",
    "b = a\n",
    "a.append(4)\n",
    "b"
   ]
  },
  {
   "cell_type": "markdown",
   "metadata": {},
   "source": [
    "![variables](variables.JPG)"
   ]
  },
  {
   "cell_type": "raw",
   "metadata": {},
   "source": [
    "With reference variables\n",
    "it makes much more sense to say that the variable is assigned to an object, and not the\n",
    "other way around. After all, the object is created before the assignment. Example 8-2\n",
    "proves that the right-hand side of an assignment happens first:"
   ]
  },
  {
   "cell_type": "markdown",
   "metadata": {},
   "source": [
    "##### Example 8-2. Variables are assigned to objects only after the objects are created."
   ]
  },
  {
   "cell_type": "code",
   "execution_count": 3,
   "metadata": {},
   "outputs": [
    {
     "name": "stdout",
     "output_type": "stream",
     "text": [
      "Gizmo id: 2161216336448\n"
     ]
    }
   ],
   "source": [
    "class Gizmo:\n",
    "    def __init__(self):\n",
    "        print('Gizmo id: %d' % id(self))\n",
    "x = Gizmo()"
   ]
  },
  {
   "cell_type": "code",
   "execution_count": 7,
   "metadata": {},
   "outputs": [],
   "source": [
    "# y = Gizmo() * 10\n",
    "\n",
    "#File \"<stdin>\", line 1, in <module>\n",
    "#TypeError: unsupported operand type(s) for *: 'Gizmo' and 'int'"
   ]
  },
  {
   "cell_type": "markdown",
   "metadata": {},
   "source": [
    "Here is proof that a second Gizmo was actually instantiated before the\n",
    "multiplication was attempted"
   ]
  },
  {
   "cell_type": "markdown",
   "metadata": {},
   "source": [
    "> To understand an assignment in Python, always read the right-hand\n",
    "side first: that’s where the object is created or retrieved. After that, the\n",
    "variable on the left is bound to the object, like a label stuck to it. Just\n",
    "forget about the boxes."
   ]
  },
  {
   "cell_type": "markdown",
   "metadata": {},
   "source": [
    "## Identity, equality and aliases"
   ]
  },
  {
   "cell_type": "raw",
   "metadata": {},
   "source": [
    "Lewis Carroll is the pen name of Prof. Charles Lutwidge Dodgson. Mr. Carroll is not\n",
    "only equal to Prof. Dodgson: they are one and the same. Example 8-3 expresses this idea\n",
    "in Python"
   ]
  },
  {
   "cell_type": "code",
   "execution_count": 10,
   "metadata": {},
   "outputs": [
    {
     "data": {
      "text/plain": [
       "True"
      ]
     },
     "execution_count": 10,
     "metadata": {},
     "output_type": "execute_result"
    }
   ],
   "source": [
    "charles = {'name': 'Charles L. Dodgson', 'born': 1832}\n",
    "\n",
    "# lewis is an alias for charles.\n",
    "lewis = charles\n",
    "\n",
    "# The is operator and the id function confirm it.\n",
    "lewis is charles"
   ]
  },
  {
   "cell_type": "code",
   "execution_count": 11,
   "metadata": {},
   "outputs": [
    {
     "data": {
      "text/plain": [
       "(2161220571000, 2161220571000)"
      ]
     },
     "execution_count": 11,
     "metadata": {},
     "output_type": "execute_result"
    }
   ],
   "source": [
    "id(charles), id(lewis)"
   ]
  },
  {
   "cell_type": "code",
   "execution_count": 13,
   "metadata": {},
   "outputs": [
    {
     "data": {
      "text/plain": [
       "{'name': 'Charles L. Dodgson', 'born': 1832, 'balance': 950}"
      ]
     },
     "execution_count": 13,
     "metadata": {},
     "output_type": "execute_result"
    }
   ],
   "source": [
    "# Adding an item to lewis is the same as adding an item to charles.\n",
    "lewis['balance'] = 950\n",
    "charles"
   ]
  },
  {
   "cell_type": "raw",
   "metadata": {},
   "source": [
    "However, suppose an impostor — let’s call him Dr. Alexander Pedachenko — claims he\n",
    "is Charles L. Dodgson, born in 1832. His credentials may be the same, but Dr. Pedachenko\n",
    "is not Prof. Dodgson. Figure 8-2 illustrates this scenario."
   ]
  },
  {
   "cell_type": "markdown",
   "metadata": {},
   "source": [
    "##### Example 8-4. alex and charles compare equal, but alex is not charles."
   ]
  },
  {
   "cell_type": "code",
   "execution_count": 16,
   "metadata": {},
   "outputs": [
    {
     "data": {
      "text/plain": [
       "True"
      ]
     },
     "execution_count": 16,
     "metadata": {},
     "output_type": "execute_result"
    }
   ],
   "source": [
    "# alex refers to an object that is a replica of the object assigned to charles.\n",
    "alex = {'name': 'Charles L. Dodgson', 'born': 1832, 'balance': 950}\n",
    "# The objects compare equal, because of the __eq__ implementation in the dict class.\n",
    "alex == charles"
   ]
  },
  {
   "cell_type": "code",
   "execution_count": 17,
   "metadata": {},
   "outputs": [
    {
     "data": {
      "text/plain": [
       "False"
      ]
     },
     "execution_count": 17,
     "metadata": {},
     "output_type": "execute_result"
    }
   ],
   "source": [
    "\n",
    "# But they are distinct objects. This is the Pythonic way of writing the negative identity comparison: a is not b.\n",
    "alex is charles"
   ]
  },
  {
   "cell_type": "markdown",
   "metadata": {},
   "source": [
    "> lewis and charles are aliases: two\n",
    "variables bound to the same object. On the other hand, alex is not an alias for\n",
    "charles: these variables are bound to distinct objects. The objects bound to alex and\n",
    "charles have the same value — that’s what == compares — but they have different\n",
    "identities."
   ]
  },
  {
   "cell_type": "markdown",
   "metadata": {},
   "source": [
    "## Choosing between == and is"
   ]
  },
  {
   "cell_type": "markdown",
   "metadata": {},
   "source": [
    "**The `==`operator compares the values of objects (the data they hold), while` is `compares\n",
    "their identities.**"
   ]
  },
  {
   "cell_type": "markdown",
   "metadata": {},
   "source": [
    "We often care about values and not identities, so == appears more frequently than is in\n",
    "Python code.\n",
    "\n",
    "However, if you are comparing a variable to a singleton, then it makes sense to use is.\n",
    "By far, the most common case is checking whether a variable is bound to None. This is\n",
    "the recommended way to do it:\n",
    "        \n",
    "- x is None\n",
    "\n",
    "And the proper way to write its negation is:\n",
    "\n",
    "- x is not None\n",
    "        \n",
    "The is operator is faster than ==, because it cannot be overloaded, so Python does not\n",
    "have to find and invoke special methods to evaluate it, and computing is as simple as\n",
    "comparing two integer ids. In contrast, a == b is syntactic sugar for `a.__eq__(b).` The\n",
    "`__eq__ `method inherited from object compares object ids, so it produces the same\n",
    "result as is. But most built-in types override __eq__ with more meaningful implementations\n",
    "that actually take into account the values of the object attributes. Equality may\n",
    "involve a lot of processing — for example, when comparing large collections or deeply\n",
    "nested structures.\n"
   ]
  },
  {
   "cell_type": "markdown",
   "metadata": {},
   "source": [
    "## Copies are shallow by default"
   ]
  },
  {
   "cell_type": "raw",
   "metadata": {},
   "source": [
    "The easiest way to copy a list (or most built-in mutable collections) is to use the builtin\n",
    "constructor for the type itself, for example:"
   ]
  },
  {
   "cell_type": "code",
   "execution_count": 18,
   "metadata": {},
   "outputs": [
    {
     "data": {
      "text/plain": [
       "[3, [55, 44], (7, 8, 9)]"
      ]
     },
     "execution_count": 18,
     "metadata": {},
     "output_type": "execute_result"
    }
   ],
   "source": [
    "l1 = [3, [55, 44], (7, 8, 9)]\n",
    "\n",
    "#list(l1) creates a copy of l1\n",
    "l2 = list(l1)\n",
    "l2"
   ]
  },
  {
   "cell_type": "code",
   "execution_count": 21,
   "metadata": {},
   "outputs": [
    {
     "data": {
      "text/plain": [
       "True"
      ]
     },
     "execution_count": 21,
     "metadata": {},
     "output_type": "execute_result"
    }
   ],
   "source": [
    "# the copies are equal\n",
    "l2 == l1"
   ]
  },
  {
   "cell_type": "code",
   "execution_count": 22,
   "metadata": {},
   "outputs": [
    {
     "data": {
      "text/plain": [
       "False"
      ]
     },
     "execution_count": 22,
     "metadata": {},
     "output_type": "execute_result"
    }
   ],
   "source": [
    "# but refer to two different objects.\n",
    "l2 is l1"
   ]
  },
  {
   "cell_type": "markdown",
   "metadata": {},
   "source": [
    ">**For lists and other mutable sequences, the shortcut l2 = l1[:] also makes a copy**"
   ]
  },
  {
   "cell_type": "raw",
   "metadata": {},
   "source": [
    "Working with shallow copies is not always a problem, but sometimes you need to make\n",
    "deep copies\n",
    "\n",
    "i.e. duplicates that do not share references of embedded objects."
   ]
  },
  {
   "cell_type": "raw",
   "metadata": {},
   "source": [
    "To illustrate the use of copy() and deepcopy(), Example 8-8 defines a simple class\n",
    "Bus, representing a school bus that is loaded with passengers and then picks or drops\n",
    "passengers on its route."
   ]
  },
  {
   "cell_type": "markdown",
   "metadata": {},
   "source": [
    "##### Example 8-8. Bus picks and drops passengers."
   ]
  },
  {
   "cell_type": "code",
   "execution_count": 27,
   "metadata": {},
   "outputs": [],
   "source": [
    "class Bus:\n",
    "    def __init__(self,passengers=None):\n",
    "        if passengers is None:\n",
    "            self.passengers = []\n",
    "        else:\n",
    "            self.passengers = list(passengers)\n",
    "            \n",
    "    def pick(self, name):\n",
    "        self.passengers.append(name)\n",
    "    \n",
    "    def drop(self, name):\n",
    "        self.passengers.remove(name)"
   ]
  },
  {
   "cell_type": "markdown",
   "metadata": {},
   "source": [
    "##### Example 8-9. Effects of using copy versus deepcopy"
   ]
  },
  {
   "cell_type": "raw",
   "metadata": {},
   "source": [
    "Now in the interactive Example 8-9 we will create a Bus instance, bus1 and two clones:\n",
    "a shallow copy (bus2) and a deep copy (bus3), to observe what happens as bus1 drops\n",
    "a student."
   ]
  },
  {
   "cell_type": "code",
   "execution_count": 35,
   "metadata": {
    "scrolled": true
   },
   "outputs": [
    {
     "data": {
      "text/plain": [
       "(2161221086288, 2161221086400, 2161221086344)"
      ]
     },
     "execution_count": 35,
     "metadata": {},
     "output_type": "execute_result"
    }
   ],
   "source": [
    "import copy\n",
    "\n",
    "# Using copy and deepcopy we create three distinct Bus instances.\n",
    "bus1 = Bus(['Alice', 'Bill', 'Claire', 'David'])\n",
    "bus2 = copy.copy(bus1)\n",
    "bus3 = copy.deepcopy(bus1)\n",
    "\n",
    "id(bus1), id(bus2), id(bus3)"
   ]
  },
  {
   "cell_type": "code",
   "execution_count": 33,
   "metadata": {},
   "outputs": [
    {
     "data": {
      "text/plain": [
       "['Alice', 'Claire', 'David']"
      ]
     },
     "execution_count": 33,
     "metadata": {},
     "output_type": "execute_result"
    }
   ],
   "source": [
    "# After bus1 drops 'Bill', he is also missing from bus2.\n",
    "bus1.drop('Bill')\n",
    "bus2.passengers"
   ]
  },
  {
   "cell_type": "code",
   "execution_count": 36,
   "metadata": {},
   "outputs": [
    {
     "data": {
      "text/plain": [
       "(2161220993928, 2161220993928, 2161216889992)"
      ]
     },
     "execution_count": 36,
     "metadata": {},
     "output_type": "execute_result"
    }
   ],
   "source": [
    "id(bus1.passengers), id(bus2.passengers), id(bus3.passengers)"
   ]
  },
  {
   "cell_type": "code",
   "execution_count": 37,
   "metadata": {},
   "outputs": [
    {
     "data": {
      "text/plain": [
       "['Alice', 'Bill', 'Claire', 'David']"
      ]
     },
     "execution_count": 37,
     "metadata": {},
     "output_type": "execute_result"
    }
   ],
   "source": [
    "# bus3 is a deep copy of bus1, so its passengers attribute refers to another list.\n",
    "bus3.passengers"
   ]
  },
  {
   "cell_type": "markdown",
   "metadata": {},
   "source": [
    "## Defensive programming with mutable parameters"
   ]
  },
  {
   "cell_type": "raw",
   "metadata": {},
   "source": [
    "When you are coding a function that receives a mutable parameter you should carefully\n",
    "consider whether the caller expects the argument passed to be changed.\n",
    "For example, if your function receives a dict and needs to modify it while processing\n",
    "it, should this side effect be visible outside of the function or not? Actually it depends\n",
    "on the context. It’s really a matter of aligning the expectation of the coder of the function\n",
    "and that of the caller."
   ]
  },
  {
   "cell_type": "markdown",
   "metadata": {},
   "source": [
    "##### Example 8-15 is the implementation TwilightBus and an explanation of the problem."
   ]
  },
  {
   "cell_type": "code",
   "execution_count": 38,
   "metadata": {},
   "outputs": [],
   "source": [
    "class TwilightBus:\n",
    "    \"\"\"A bus model that makes passengers vanish\"\"\"\n",
    "    def __init__(self, passengers=None):\n",
    "        if passengers is None:              # Here we are careful to create a new empty list when passengers is None.\n",
    "            self.passengers = []\n",
    "        else:\n",
    "            self.passengers = passengers    # However, this assignment makes self.passengers an alias for passengers\n",
    "            \n",
    "    def pick(self, name):\n",
    "        self.passengers.append(name)\n",
    "        \n",
    "    def drop(self, name):\n",
    "        self.passengers.remove(name)       \n",
    "\n",
    "# When the methods .remove() and .append() are used with self.passengers,we are actually mutating the original list received as argument to the constructor."
   ]
  },
  {
   "cell_type": "raw",
   "metadata": {},
   "source": [
    "The problem here is that the bus is aliasing the list that is passed to the constructor.\n",
    "Instead, it should keep its own passenger list. The fix is simple: in __init__, when the\n",
    "passengers parameter is provided, self.passengers should be initialized with a copy of it"
   ]
  },
  {
   "cell_type": "markdown",
   "metadata": {},
   "source": [
    "```\n",
    "def __init__(self, passengers=None):\n",
    "    if passengers is None:\n",
    "        self.passengers = []\n",
    "    else:\n",
    "        self.passengers = list(passengers)\n",
    "    # Make a copy of the passengers list, or convert it to a list if it’s not one.\n",
    "```"
   ]
  },
  {
   "cell_type": "markdown",
   "metadata": {},
   "source": [
    "## del and garbage collection"
   ]
  },
  {
   "cell_type": "markdown",
   "metadata": {},
   "source": [
    ">The del statement deletes names, not objects. An object may be garbage collected as\n",
    "result of a del command, but only if the variable deleted holds the last reference to the\n",
    "object, or if the object becomes unreachable4. Rebinding a variable may also cause the\n",
    "number of references to an object reach zero, causing its destruction"
   ]
  },
  {
   "cell_type": "raw",
   "metadata": {},
   "source": [
    "In order to demonstrate the end of an object’s life, Example 8-16 uses weakref.final\n",
    "ize to register a callback function to be called when an object is destroyed."
   ]
  },
  {
   "cell_type": "markdown",
   "metadata": {},
   "source": [
    "##### Example 8-16. Watching the end of an object when no more references point to it."
   ]
  },
  {
   "cell_type": "code",
   "execution_count": 44,
   "metadata": {},
   "outputs": [
    {
     "name": "stdout",
     "output_type": "stream",
     "text": [
      "Gone with the wind...\n"
     ]
    },
    {
     "data": {
      "text/plain": [
       "True"
      ]
     },
     "execution_count": 44,
     "metadata": {},
     "output_type": "execute_result"
    }
   ],
   "source": [
    "import weakref\n",
    "\n",
    "s1 = {1, 2, 3}\n",
    "\n",
    "# s1 and s2 are aliases referring to the same set, {1, 2, 3}.\n",
    "s2 = s1\n",
    "\n",
    "\"\"\"\n",
    "This function must not be a bound method the object about to be destroyed or\n",
    "otherwise hold a reference to it\n",
    "\n",
    "\"\"\"\n",
    "def bye():\n",
    "    print('Gone with the wind...')\n",
    "    \n",
    "ender = weakref.finalize(s1, bye)\n",
    "\n",
    "# The .alive attribute is True before the finalize object is called.\n",
    "ender.alive"
   ]
  },
  {
   "cell_type": "code",
   "execution_count": 45,
   "metadata": {},
   "outputs": [
    {
     "data": {
      "text/plain": [
       "True"
      ]
     },
     "execution_count": 45,
     "metadata": {},
     "output_type": "execute_result"
    }
   ],
   "source": [
    "del s1\n",
    "\n",
    "#As discussed, del does not delete an object, just a reference to it.\n",
    "ender.alive"
   ]
  },
  {
   "cell_type": "code",
   "execution_count": 46,
   "metadata": {
    "scrolled": true
   },
   "outputs": [
    {
     "name": "stdout",
     "output_type": "stream",
     "text": [
      "Gone with the wind...\n"
     ]
    },
    {
     "data": {
      "text/plain": [
       "False"
      ]
     },
     "execution_count": 46,
     "metadata": {},
     "output_type": "execute_result"
    }
   ],
   "source": [
    "s2 = 'spam'\n",
    "\n",
    "# Rebinding the last reference, s2, makes {1, 2, 3} unreachable. It is destroyed, the bye callback is invoked and ender.alive becomes False.\n",
    "ender.alive"
   ]
  },
  {
   "cell_type": "markdown",
   "metadata": {},
   "source": [
    "## Weak references"
   ]
  },
  {
   "cell_type": "raw",
   "metadata": {},
   "source": [
    "The presence of references is what keeps an object alive in memory. When the reference\n",
    "count of an object reaches zero, the garbage collector disposes of it. But sometimes it is\n",
    "useful to have a reference to an object that does not keep it around longer than necessary.\n",
    "A common use case is a cache.\n",
    "Weak references to an object do not increase its reference count. The object that is the\n",
    "target of a reference is called the referent. Therefore, we say that a weak reference does\n",
    "not prevent the referent from being garbage collected."
   ]
  },
  {
   "cell_type": "markdown",
   "metadata": {},
   "source": [
    "##### Example 8-17. A weak reference is a callable that returns the referenced object or None if the referent is no more."
   ]
  },
  {
   "cell_type": "code",
   "execution_count": 59,
   "metadata": {},
   "outputs": [
    {
     "data": {
      "text/plain": [
       "{0, 1}"
      ]
     },
     "execution_count": 59,
     "metadata": {},
     "output_type": "execute_result"
    }
   ],
   "source": [
    "\n",
    "\"\"\"Invoking wref() returns the referenced object, {0, 1}. Because this is a console\n",
    "session, the result {0, 1} is bound to the _ variable\"\"\"\n",
    "wref()"
   ]
  },
  {
   "cell_type": "code",
   "execution_count": 60,
   "metadata": {
    "scrolled": true
   },
   "outputs": [
    {
     "data": {
      "text/plain": [
       "{0, 1}"
      ]
     },
     "execution_count": 60,
     "metadata": {},
     "output_type": "execute_result"
    }
   ],
   "source": [
    "\"\"\"a_set no longer refers to the {0, 1} set, so its reference count is decreased. But the _ variable still refers to it.\"\"\"\n",
    "a_set = {2, 3, 4}\n",
    "wref()"
   ]
  }
 ],
 "metadata": {
  "kernelspec": {
   "display_name": "Python 3",
   "language": "python",
   "name": "python3"
  },
  "language_info": {
   "codemirror_mode": {
    "name": "ipython",
    "version": 3
   },
   "file_extension": ".py",
   "mimetype": "text/x-python",
   "name": "python",
   "nbconvert_exporter": "python",
   "pygments_lexer": "ipython3",
   "version": "3.7.3"
  }
 },
 "nbformat": 4,
 "nbformat_minor": 2
}
